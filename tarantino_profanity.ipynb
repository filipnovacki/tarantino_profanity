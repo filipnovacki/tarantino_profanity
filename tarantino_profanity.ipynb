{
 "cells": [
  {
   "cell_type": "markdown",
   "metadata": {},
   "source": [
    "# Analiza vulgarnosti u Tarantinovim filmovima\n",
    "\n",
    "Alati: Jupyter Notebook, Python (pandas, matplotlib i sl.), SQLite"
   ]
  },
  {
   "cell_type": "code",
   "execution_count": 1,
   "metadata": {},
   "outputs": [
    {
     "data": {
      "text/html": [
       "<div>\n",
       "<style scoped>\n",
       "    .dataframe tbody tr th:only-of-type {\n",
       "        vertical-align: middle;\n",
       "    }\n",
       "\n",
       "    .dataframe tbody tr th {\n",
       "        vertical-align: top;\n",
       "    }\n",
       "\n",
       "    .dataframe thead th {\n",
       "        text-align: right;\n",
       "    }\n",
       "</style>\n",
       "<table border=\"1\" class=\"dataframe\">\n",
       "  <thead>\n",
       "    <tr style=\"text-align: right;\">\n",
       "      <th></th>\n",
       "      <th>movie</th>\n",
       "      <th>type</th>\n",
       "      <th>word</th>\n",
       "      <th>minutes_in</th>\n",
       "    </tr>\n",
       "  </thead>\n",
       "  <tbody>\n",
       "    <tr>\n",
       "      <th>0</th>\n",
       "      <td>Reservoir Dogs</td>\n",
       "      <td>word</td>\n",
       "      <td>dick</td>\n",
       "      <td>0.40</td>\n",
       "    </tr>\n",
       "    <tr>\n",
       "      <th>1</th>\n",
       "      <td>Reservoir Dogs</td>\n",
       "      <td>word</td>\n",
       "      <td>dicks</td>\n",
       "      <td>0.43</td>\n",
       "    </tr>\n",
       "    <tr>\n",
       "      <th>2</th>\n",
       "      <td>Reservoir Dogs</td>\n",
       "      <td>word</td>\n",
       "      <td>fucked</td>\n",
       "      <td>0.55</td>\n",
       "    </tr>\n",
       "    <tr>\n",
       "      <th>3</th>\n",
       "      <td>Reservoir Dogs</td>\n",
       "      <td>word</td>\n",
       "      <td>fucking</td>\n",
       "      <td>0.61</td>\n",
       "    </tr>\n",
       "    <tr>\n",
       "      <th>4</th>\n",
       "      <td>Reservoir Dogs</td>\n",
       "      <td>word</td>\n",
       "      <td>bullshit</td>\n",
       "      <td>0.61</td>\n",
       "    </tr>\n",
       "    <tr>\n",
       "      <th>...</th>\n",
       "      <td>...</td>\n",
       "      <td>...</td>\n",
       "      <td>...</td>\n",
       "      <td>...</td>\n",
       "    </tr>\n",
       "    <tr>\n",
       "      <th>1889</th>\n",
       "      <td>Jackie Brown</td>\n",
       "      <td>word</td>\n",
       "      <td>motherfucker</td>\n",
       "      <td>141.93</td>\n",
       "    </tr>\n",
       "    <tr>\n",
       "      <th>1890</th>\n",
       "      <td>Jackie Brown</td>\n",
       "      <td>word</td>\n",
       "      <td>ass</td>\n",
       "      <td>142.43</td>\n",
       "    </tr>\n",
       "    <tr>\n",
       "      <th>1891</th>\n",
       "      <td>Jackie Brown</td>\n",
       "      <td>word</td>\n",
       "      <td>fucking</td>\n",
       "      <td>142.47</td>\n",
       "    </tr>\n",
       "    <tr>\n",
       "      <th>1892</th>\n",
       "      <td>Jackie Brown</td>\n",
       "      <td>word</td>\n",
       "      <td>goddamn</td>\n",
       "      <td>142.97</td>\n",
       "    </tr>\n",
       "    <tr>\n",
       "      <th>1893</th>\n",
       "      <td>Jackie Brown</td>\n",
       "      <td>death</td>\n",
       "      <td>NaN</td>\n",
       "      <td>143.13</td>\n",
       "    </tr>\n",
       "  </tbody>\n",
       "</table>\n",
       "<p>1894 rows × 4 columns</p>\n",
       "</div>"
      ],
      "text/plain": [
       "               movie   type          word  minutes_in\n",
       "0     Reservoir Dogs   word          dick        0.40\n",
       "1     Reservoir Dogs   word         dicks        0.43\n",
       "2     Reservoir Dogs   word        fucked        0.55\n",
       "3     Reservoir Dogs   word       fucking        0.61\n",
       "4     Reservoir Dogs   word      bullshit        0.61\n",
       "...              ...    ...           ...         ...\n",
       "1889    Jackie Brown   word  motherfucker      141.93\n",
       "1890    Jackie Brown   word           ass      142.43\n",
       "1891    Jackie Brown   word       fucking      142.47\n",
       "1892    Jackie Brown   word       goddamn      142.97\n",
       "1893    Jackie Brown  death           NaN      143.13\n",
       "\n",
       "[1894 rows x 4 columns]"
      ]
     },
     "execution_count": 1,
     "metadata": {},
     "output_type": "execute_result"
    }
   ],
   "source": [
    "import pandas as pd\n",
    "df = pd.read_csv('profanity.csv')\n",
    "df"
   ]
  },
  {
   "cell_type": "code",
   "execution_count": 2,
   "metadata": {},
   "outputs": [],
   "source": [
    "data = {}\n",
    "with open('profanity.csv') as file:\n",
    "    for f in list(enumerate(file.readlines()[1:])):\n",
    "        data[f[0]] = f[1:][0].rstrip().split(',')"
   ]
  },
  {
   "cell_type": "code",
   "execution_count": 3,
   "metadata": {},
   "outputs": [],
   "source": [
    "rijeci = set(df.word)"
   ]
  },
  {
   "cell_type": "code",
   "execution_count": 5,
   "metadata": {},
   "outputs": [],
   "source": [
    "filmovi = set(df.movie)"
   ]
  },
  {
   "cell_type": "code",
   "execution_count": 6,
   "metadata": {},
   "outputs": [],
   "source": [
    "film = [('Django Unchained', 84, 2012, 165), \n",
    " ('Pulp Fiction', 89, 1994, 154), \n",
    " ('Inglorious Basterds', 83, 2009, 153), \n",
    " ('Kill Bill: Vol. 1', 81, 2003, 91), \n",
    " ('Jackie Brown', 75, 1997, 154), \n",
    " ('Reservoir Dogs', 83, 1992, 99), \n",
    " ('Kill Bill: Vol. 2', 80, 2004, 137)]"
   ]
  },
  {
   "cell_type": "code",
   "execution_count": 7,
   "metadata": {},
   "outputs": [],
   "source": [
    "tip_vulgarnosti = set(df.type)"
   ]
  },
  {
   "cell_type": "code",
   "execution_count": 8,
   "metadata": {
    "scrolled": true
   },
   "outputs": [],
   "source": [
    "rijec = set(df.word)\n",
    "rijec.add('death')"
   ]
  },
  {
   "cell_type": "code",
   "execution_count": 9,
   "metadata": {},
   "outputs": [],
   "source": [
    "vulg = {}.fromkeys(rijec, [])\n",
    "for entry in data:\n",
    "    time = [[ entry, data[entry][3] ]]\n",
    "    if data[entry][1] == 'word':\n",
    "        vulg[data[entry][2]] = vulg[data[entry][2]] + time\n",
    "    elif data[entry][1] == 'death':\n",
    "        vulg['death'] = vulg['death'] + time"
   ]
  },
  {
   "cell_type": "code",
   "execution_count": 10,
   "metadata": {},
   "outputs": [],
   "source": [
    "sorted_vulgs = []\n",
    "only_sorted = []\n",
    "base_words = ['shit', 'fuck', 'ass', 'damn', 'dick', 'cock', 'bitch', 'cunt', ]\n",
    "for word in vulg.keys():\n",
    "    for base in base_words:\n",
    "        if type(word) == type('') and base in word:\n",
    "            sorted_vulgs.append((base, word))\n",
    "            only_sorted.append(word)"
   ]
  },
  {
   "cell_type": "code",
   "execution_count": 11,
   "metadata": {
    "scrolled": true
   },
   "outputs": [
    {
     "data": {
      "text/plain": [
       "[('fuck', 'motherfucker'),\n",
       " ('shit', 'horeshit'),\n",
       " ('damn', 'damned'),\n",
       " ('fuck', 'fuck'),\n",
       " ('fuck', 'fuckhead')]"
      ]
     },
     "execution_count": 11,
     "metadata": {},
     "output_type": "execute_result"
    }
   ],
   "source": [
    "sorted_vulgs_db = sorted_vulgs + [(r,r) for r in rijec if r not in only_sorted]\n",
    "sorted_vulgs_db[:5]"
   ]
  },
  {
   "cell_type": "code",
   "execution_count": 12,
   "metadata": {
    "scrolled": true
   },
   "outputs": [],
   "source": [
    "korijen = base_words + [r for r in rijec if r not in only_sorted]"
   ]
  },
  {
   "cell_type": "code",
   "execution_count": 13,
   "metadata": {},
   "outputs": [],
   "source": [
    "korijen_db = []\n",
    "for item in korijen:\n",
    "    korijen_db.append((item,))"
   ]
  },
  {
   "cell_type": "code",
   "execution_count": 14,
   "metadata": {},
   "outputs": [],
   "source": [
    "kategorije = ['fekalije', 'seks', 'psovke', 'pogrdnost', 'nacija', 'rasa', 'smrt']\n",
    "kategorije_db = []\n",
    "for item in kategorije:\n",
    "    kategorije_db.append((item,))"
   ]
  },
  {
   "cell_type": "code",
   "execution_count": 15,
   "metadata": {},
   "outputs": [],
   "source": [
    "korijen_kat = [('shit', 'fekalije'),\n",
    "('fuck', 'seks'),\n",
    "('ass', 'seks'),\n",
    "('damn', 'psovke'),\n",
    "('dick', 'seks'),\n",
    "('cock', 'seks'),\n",
    "('bitch', 'pogrdnost'),\n",
    "('cunt', 'seks'),\n",
    "('slut', 'seks'),\n",
    "('slope', 'rasa' ),\n",
    "('jap', 'nacija'),\n",
    "('pussy', 'seks'),\n",
    "('death', 'smrt'),\n",
    "('n-word ', 'rasa'),\n",
    "('bastards', 'pogrdnost'),\n",
    "('gooks', 'nacija'),\n",
    "('hell', 'psovka'),\n",
    "('jew (verb)', 'pogrdnost'),\n",
    "('faggot', 'seks'),\n",
    "('squaw', 'seks'),\n",
    "('wetback', 'nacija'),\n",
    "('merde', 'fekalije'),\n",
    "('bastard', 'pogrdnost'),\n",
    "('gook', 'nacija'),\n",
    "('japs', 'nacija'),\n",
    "('negro ', 'rasa')]"
   ]
  },
  {
   "cell_type": "markdown",
   "metadata": {},
   "source": [
    "## Upravljanje bazom podataka"
   ]
  },
  {
   "cell_type": "code",
   "execution_count": 16,
   "metadata": {},
   "outputs": [],
   "source": [
    "import sqlite3"
   ]
  },
  {
   "cell_type": "code",
   "execution_count": 17,
   "metadata": {},
   "outputs": [],
   "source": [
    "conn = sqlite3.connect('baza.db')\n",
    "c = conn.cursor()"
   ]
  },
  {
   "cell_type": "markdown",
   "metadata": {},
   "source": [
    "\n",
    "\n",
    "### Tablica korijen\n",
    "```sqlite\n",
    "CREATE TABLE korijen(\n",
    "    korijen_id INTEGER PRIMARY KEY AUTOINCREMENT,\n",
    "    naziv TEXT\n",
    "    kategorija_fk INTEGER   --- vraceno u korijen\n",
    "    FOREIGN KEY (kategorija_fk)\n",
    "        REFERENCES kategorija (kategorija_id)\n",
    "\n",
    ");\n",
    "```\n",
    "\n",
    "```sqlite\n",
    "INSERT INTO korijen(naziv) VALUES (?);\n",
    "```"
   ]
  },
  {
   "cell_type": "code",
   "execution_count": 18,
   "metadata": {},
   "outputs": [],
   "source": [
    "drop_table_korijen = '''\n",
    "DROP TABLE korijen;\n",
    "'''\n",
    "c.execute(drop_table_korijen)\n",
    "\n",
    "create_table_korijen='''\n",
    "CREATE TABLE korijen(\n",
    "    korijen_id INTEGER PRIMARY KEY AUTOINCREMENT,\n",
    "    naziv TEXT,\n",
    "    kategorija_fk INTEGER,\n",
    "    FOREIGN KEY (kategorija_fk)\n",
    "        REFERENCES kategorija (kategorija_id)\n",
    "\n",
    ");\n",
    "'''\n",
    "\n",
    "c.execute(create_table_korijen)\n",
    "\n",
    "insert_into_korijen = '''\n",
    "INSERT INTO korijen(naziv) VALUES (?);\n",
    "'''\n",
    "c.executemany(insert_into_korijen, korijen_db)\n",
    "conn.commit()"
   ]
  },
  {
   "cell_type": "markdown",
   "metadata": {},
   "source": [
    "### Tablica kategorija\n",
    "\n",
    "```sqlite\n",
    "CREATE TABLE kategorija(\n",
    "    kategorija_id INTEGER PRIMARY KEY AUTOINCREMENT,\n",
    "    naziv TEXT\n",
    ");\n",
    "```\n",
    "\n",
    "```sqlite\n",
    "INSERT INTO kategorija(naziv) VALUES (?);\n",
    "```\n"
   ]
  },
  {
   "cell_type": "code",
   "execution_count": 19,
   "metadata": {},
   "outputs": [],
   "source": [
    "drop_table_kat = '''\n",
    "DROP TABLE kategorija;\n",
    "'''\n",
    "c.execute(drop_table_kat)\n",
    "\n",
    "create_table_kat = '''\n",
    "CREATE TABLE kategorija(\n",
    "    kategorija_id INTEGER PRIMARY KEY AUTOINCREMENT,\n",
    "    naziv TEXT\n",
    ");'''\n",
    "\n",
    "c.execute(create_table_kat)\n",
    "insert_into_kat = '''\n",
    "INSERT INTO kategorija(naziv) VALUES (?);\n",
    "'''\n",
    "c.executemany(insert_into_kat, kategorije_db)\n",
    "conn.commit()"
   ]
  },
  {
   "cell_type": "markdown",
   "metadata": {},
   "source": [
    "### Tablica film\n",
    "```sqlite\n",
    "CREATE TABLE film(\n",
    "    film_id INTEGER PRIMARY KEY AUTOINCREMENT,\n",
    "    naziv TEXT NOT NULL,\n",
    "    godina INTEGER,\n",
    "    trajanje INTEGER, --- minute\n",
    "    ocjena INTEGER, --- 0 <= ocjena <= 100\n",
    "    CHECK (ocjena <= 100 AND\n",
    "           ocjena >= 0)\n",
    ");\n",
    "```\n",
    "```sqlite\n",
    "INSERT INTO film (naziv, ocjena, godina) VALUES (?, ?, ?);\n",
    "```"
   ]
  },
  {
   "cell_type": "code",
   "execution_count": 20,
   "metadata": {},
   "outputs": [],
   "source": [
    "drop_table_film = '''DROP TABLE film;'''\n",
    "c.execute(drop_table_film)\n",
    "\n",
    "create_table_film = '''\n",
    "CREATE TABLE film(\n",
    "    film_id INTEGER PRIMARY KEY AUTOINCREMENT,\n",
    "    naziv TEXT NOT NULL,\n",
    "    godina INTEGER,\n",
    "    trajanje INTEGER,\n",
    "    ocjena INTEGER\n",
    "    CHECK (ocjena <= 100 AND\n",
    "           ocjena >= 0)\n",
    ");\n",
    "'''\n",
    "c.execute(create_table_film)\n",
    "\n",
    "insert_into_film = '''\n",
    "INSERT INTO film (naziv, ocjena, godina, trajanje) VALUES (?, ?, ?, ?);\n",
    "'''\n",
    "c.executemany(insert_into_film, film)\n",
    "conn.commit()"
   ]
  },
  {
   "cell_type": "markdown",
   "metadata": {},
   "source": [
    "### Tablica rijec\n",
    "\n",
    "```sqlite\n",
    "CREATE TABLE rijec (\n",
    "    rijec_id INTEGER PRIMARY KEY, ---non-autoincrement!\n",
    "    rijec TEXT NOT NULL,\n",
    "    vrijeme REAL NOT NULL,\n",
    "    film_fk INTEGER,\n",
    "    FOREIGN KEY (film_dk)\n",
    "        REFERENCES film (film_id) \n",
    "    korijen_fk INTEGER,\n",
    "    FOREIGN KEY (korijen_fk)\n",
    "        REFENCES korijen (korijen_id)\n",
    "    kategorija_fk INTEGER   --- vraceno u korijen\n",
    "    FOREIGN KEY (kategorija_fk)\n",
    "        REFERENCES kategorija (kategorija_id)\n",
    ");```\n",
    "\n",
    "\n",
    "```sqlite\n",
    "INSERT INTO rijec VALUES (?,?,?,NULL,NULL,NULL)\n",
    "\n",
    "```"
   ]
  },
  {
   "cell_type": "code",
   "execution_count": 21,
   "metadata": {},
   "outputs": [],
   "source": [
    "drop_table_rijec ='''\n",
    "DROP TABLE rijec;\n",
    "'''\n",
    "c.execute(drop_table_rijec)\n",
    "\n",
    "create_table_rijec = '''\n",
    "CREATE TABLE rijec (\n",
    "    rijec_id INTEGER PRIMARY KEY,\n",
    "    rijec TEXT NOT NULL,\n",
    "    vrijeme REAL NOT NULL,\n",
    "    film_fk INTEGER,\n",
    "    korijen_fk INTEGER,\n",
    "    kategorija_fk INTEGER,   --- vraceno u korijen\n",
    "    FOREIGN KEY (kategorija_fk)\n",
    "        REFERENCES kategorija (kategorija_id)\n",
    "    \n",
    ");\n",
    "'''\n",
    "c.execute(create_table_rijec)\n",
    "\n",
    "insert_into_rijec = '''\n",
    "INSERT INTO rijec VALUES (?,?,?,NULL,NULL,NULL)\n",
    "'''\n",
    "c.executemany(insert_into_rijec, [(a, data[a][2], data[a][3]) for a in data])\n",
    "conn.commit()"
   ]
  },
  {
   "cell_type": "markdown",
   "metadata": {},
   "source": [
    "```sqlite\n",
    "UPDATE rijec SET korijen_fk = (\n",
    "    SELECT korijen_id FROM korijen\n",
    "    WHERE naziv = ?\n",
    ") WHERE rijec = ?\n",
    "```"
   ]
  },
  {
   "cell_type": "code",
   "execution_count": 22,
   "metadata": {},
   "outputs": [],
   "source": [
    "update_korijen_fk = '''\n",
    "UPDATE rijec SET korijen_fk = (\n",
    "    SELECT korijen_id FROM korijen\n",
    "    WHERE naziv = ?\n",
    ") WHERE rijec = ?\n",
    "'''\n",
    "c.executemany(update_korijen_fk, sorted_vulgs_db)\n",
    "conn.commit()"
   ]
  },
  {
   "cell_type": "markdown",
   "metadata": {},
   "source": [
    "```sqlite\n",
    "UPDATE rijec SET film_fk = (\n",
    "    SELECT film_id FROM film\n",
    "    WHERE naziv = ?\n",
    ") WHERE rijec_id = ?\n",
    "```"
   ]
  },
  {
   "cell_type": "code",
   "execution_count": 23,
   "metadata": {},
   "outputs": [],
   "source": [
    "update_film_fk = '''\n",
    "UPDATE rijec SET film_fk = (\n",
    "    SELECT film_id FROM film\n",
    "    WHERE naziv = ?\n",
    ") WHERE rijec_id = ?\n",
    "'''\n",
    "film_id = [(data[a][0], a) for a in data]\n",
    "c.executemany(update_film_fk, film_id)\n",
    "conn.commit()"
   ]
  },
  {
   "cell_type": "markdown",
   "metadata": {},
   "source": [
    "```sqlite\n",
    "UPDATE rijec SET kategorija_fk = (\n",
    "    SELECT kategorija_id FROM kategorija\n",
    "    WHERE naziv = ?\n",
    ") WHERE korijen = (\n",
    "    SELECT korijen_id FROM korijen\n",
    "    WHERE naziv = ?\n",
    ");\n",
    "```"
   ]
  },
  {
   "cell_type": "code",
   "execution_count": 24,
   "metadata": {},
   "outputs": [],
   "source": [
    "update_kategorija_fk = '''\n",
    "UPDATE rijec SET kategorija_fk = (\n",
    "    SELECT kategorija_id FROM kategorija\n",
    "    WHERE naziv = ?\n",
    ") WHERE korijen_fk = (\n",
    "    SELECT korijen.korijen_id\n",
    "    FROM korijen\n",
    "    WHERE naziv = ?\n",
    ");\n",
    "'''\n",
    "c.executemany(update_kategorija_fk, [(a[1], a[0]) for a in korijen_kat])\n",
    "conn.commit()"
   ]
  },
  {
   "cell_type": "markdown",
   "metadata": {},
   "source": [
    "### Upiti"
   ]
  },
  {
   "cell_type": "markdown",
   "metadata": {},
   "source": [
    "Ispitivanje postoji li vezanost između količine psovki i ocjene."
   ]
  },
  {
   "cell_type": "code",
   "execution_count": 25,
   "metadata": {},
   "outputs": [],
   "source": [
    "import matplotlib as mpl\n",
    "import matplotlib.pyplot as plt"
   ]
  },
  {
   "cell_type": "code",
   "execution_count": 27,
   "metadata": {},
   "outputs": [
    {
     "data": {
      "image/png": "[encoded data removed]",
      "text/plain": [
       "<Figure size 432x288 with 1 Axes>"
      ]
     },
     "metadata": {
      "needs_background": "light"
     },
     "output_type": "display_data"
    }
   ],
   "source": [
    "#Ispitivanje postoji li veza izmedu gustoce psovki i ocjene.\n",
    "\n",
    "avg_per_film = '''\n",
    "SELECT  CAST (COUNT() as float)/film.trajanje, film.ocjena \n",
    "FROM rijec, film\n",
    "WHERE film_id = film_fk\n",
    "GROUP BY film_fk\n",
    "'''\n",
    "rez = c.execute(avg_per_film).fetchall()\n",
    "\n",
    "podatci_avg = sorted(rez)\n",
    "list(zip(*podatci_avg))\n",
    "\n",
    "fig = plt.figure()\n",
    "ax1 = fig.add_subplot(111)\n",
    "ax1.set_ylabel('ocjena')\n",
    "ax1.set_xlabel('broj psovki po minuti')\n",
    "\n",
    "plt.grid(True)\n",
    "plt.scatter(*zip(*podatci_avg))\n",
    "plt.plot(*zip(*podatci_avg))\n",
    "plt.savefig('rad/slike/psovke_po_minuti.pdf')\n",
    "plt.show()"
   ]
  },
  {
   "cell_type": "code",
   "execution_count": 28,
   "metadata": {},
   "outputs": [],
   "source": [
    "from collections import Counter"
   ]
  },
  {
   "cell_type": "code",
   "execution_count": 29,
   "metadata": {},
   "outputs": [],
   "source": [
    "def psovka_dio_filma(db_cursor, ime_filma, detail = 10, vulg = 'word'):\n",
    "    vulg = '!' if vulg == 'word' else '='\n",
    "    upit = '''\n",
    "    SELECT CAST (rijec.vrijeme/film.trajanje*{0} as INTEGER) as psovka_pc\n",
    "    FROM film, rijec\n",
    "    WHERE rijec.film_fk = film_id\n",
    "        AND rijec.rijec {2}= ''\n",
    "        AND film.naziv = '{1}'\n",
    "    '''.format(detail, ime_filma, vulg)\n",
    "    data = db_cursor.execute(upit).fetchall()\n",
    "    \n",
    "    data = list(x[0] for x in data)\n",
    "    data = dict(Counter(data))\n",
    "    fig, ax = plt.subplots()\n",
    "    ax.set_title(ime_filma)\n",
    "    ax.set_ylabel('Vrijeme')\n",
    "    ax.set_xlabel('Broj psovki')\n",
    "\n",
    "    \n",
    "    fig.tight_layout()\n",
    "    ax.grid(True)\n",
    "    ax.bar(data.keys(), data.values())\n",
    "    plt.savefig(\"rad/slike/\" + ime_filma + \"_\" + vulg + \".pdf\")\n",
    "    plt.show()"
   ]
  },
  {
   "cell_type": "code",
   "execution_count": 30,
   "metadata": {},
   "outputs": [
    {
     "data": {
      "image/png": "[encoded data removed]",
      "text/plain": [
       "<Figure size 432x288 with 1 Axes>"
      ]
     },
     "metadata": {
      "needs_background": "light"
     },
     "output_type": "display_data"
    }
   ],
   "source": [
    "psovka_dio_filma(c, 'Kill Bill: Vol. 2', detail = 20, vulg='word')"
   ]
  },
  {
   "cell_type": "code",
   "execution_count": 31,
   "metadata": {},
   "outputs": [
    {
     "data": {
      "image/png": "[encoded data removed]",
      "text/plain": [
       "<Figure size 432x288 with 1 Axes>"
      ]
     },
     "metadata": {
      "needs_background": "light"
     },
     "output_type": "display_data"
    },
    {
     "data": {
      "image/png": "[encoded data removed]",
      "text/plain": [
       "<Figure size 432x288 with 1 Axes>"
      ]
     },
     "metadata": {
      "needs_background": "light"
     },
     "output_type": "display_data"
    },
    {
     "data": {
      "image/png": "[encoded data removed]",
      "text/plain": [
       "<Figure size 432x288 with 1 Axes>"
      ]
     },
     "metadata": {
      "needs_background": "light"
     },
     "output_type": "display_data"
    },
    {
     "data": {
      "image/png": "[encoded data removed]",
      "text/plain": [
       "<Figure size 432x288 with 1 Axes>"
      ]
     },
     "metadata": {
      "needs_background": "light"
     },
     "output_type": "display_data"
    },
    {
     "data": {
      "image/png": "[encoded data removed]",
      "text/plain": [
       "<Figure size 432x288 with 1 Axes>"
      ]
     },
     "metadata": {
      "needs_background": "light"
     },
     "output_type": "display_data"
    },
    {
     "data": {
      "image/png": "[encoded data removed]",
      "text/plain": [
       "<Figure size 432x288 with 1 Axes>"
      ]
     },
     "metadata": {
      "needs_background": "light"
     },
     "output_type": "display_data"
    },
    {
     "data": {
      "image/png": "[encoded data removed]",
      "text/plain": [
       "<Figure size 432x288 with 1 Axes>"
      ]
     },
     "metadata": {
      "needs_background": "light"
     },
     "output_type": "display_data"
    }
   ],
   "source": [
    "for film in filmovi:\n",
    "    psovka_dio_filma(c, film, detail = 30)"
   ]
  },
  {
   "cell_type": "code",
   "execution_count": 32,
   "metadata": {},
   "outputs": [
    {
     "name": "stdout",
     "output_type": "stream",
     "text": [
      "[(1.8727272727272728, 2012), (3.090909090909091, 1994), (0.6928104575163399, 2009), (1.3186813186813187, 2003), (2.4155844155844157, 1997), (4.353535353535354, 1992), (0.583941605839416, 2004)]\n"
     ]
    }
   ],
   "source": [
    "psovki_po_godini = '''\n",
    "SELECT  CAST (COUNT() as float)/film.trajanje, film.godina \n",
    "FROM rijec, film\n",
    "WHERE film_id = film_fk\n",
    "GROUP BY film_fk\n",
    "'''\n",
    "rez = c.execute(psovki_po_godini).fetchall()\n",
    "print(rez)"
   ]
  },
  {
   "cell_type": "code",
   "execution_count": 33,
   "metadata": {},
   "outputs": [
    {
     "data": {
      "image/png": "[encoded data removed]",
      "text/plain": [
       "<Figure size 432x288 with 1 Axes>"
      ]
     },
     "metadata": {
      "needs_background": "light"
     },
     "output_type": "display_data"
    }
   ],
   "source": [
    "fig = plt.figure()\n",
    "ax1 = fig.add_subplot(111)\n",
    "ax1.set_ylabel('broj psovki po minuti')\n",
    "ax1.set_xlabel('godina')\n",
    "fig.tight_layout()\n",
    "plt.grid(True)\n",
    "plt.xticks([1990, 1995,2000,2005,2010,2015])\n",
    "plt.bar([int(a[1]) for a in rez], [a[0] for a in rez], align='edge', width=0.8, color='orange')\n",
    "#plt.plot(*zip(*rez))\n",
    "plt.savefig('rad/slike/psovke_godine.pdf')\n",
    "plt.show()"
   ]
  },
  {
   "cell_type": "code",
   "execution_count": 34,
   "metadata": {
    "scrolled": true
   },
   "outputs": [
    {
     "data": {
      "image/png": "[encoded data removed]",
      "text/plain": [
       "<Figure size 432x288 with 1 Axes>"
      ]
     },
     "metadata": {
      "needs_background": "light"
     },
     "output_type": "display_data"
    }
   ],
   "source": [
    "detail = 30\n",
    "fig, ax = plt.subplots()\n",
    "ax.set_title('Distribucija psovki')\n",
    "vulg = '!'\n",
    "ax.set_xlabel('Vrijeme')\n",
    "ax.set_ylabel('Broj psovki')\n",
    "suma = []\n",
    "for film in filmovi:\n",
    "    upit = '''\n",
    "    SELECT CAST (rijec.vrijeme/film.trajanje*{0} as INTEGER) as psovka_pc\n",
    "    FROM film, rijec\n",
    "    WHERE rijec.film_fk = film_id\n",
    "        AND rijec.rijec {2}= ''\n",
    "        AND film.naziv = '{1}'\n",
    "    '''.format(detail, film, vulg)\n",
    "    \n",
    "    data = c.execute(upit).fetchall()\n",
    "    data = list(x[0] for x in data)\n",
    "\n",
    "    data = dict(Counter(data))\n",
    "    suma.append(data)\n",
    "    #print(suma)\n",
    "\n",
    "    \n",
    "\n",
    "    ax.plot(list(data.keys()), list(data.values()), label=film)\n",
    "import functools, operator\n",
    "result = dict(functools.reduce(operator.add, map(Counter, suma))) \n",
    "ax.plot(list(result.keys()), list(result.values()), label=\"zbroj svih\")\n",
    "fig.tight_layout()\n",
    "ax.grid(True)\n",
    "\n",
    "plt.legend(loc=\"upper right\")\n",
    "\n",
    "plt.savefig(\"rad/slike/filmovi_distribucija_psovki.pdf\")\n",
    "plt.show()\n",
    "\n"
   ]
  },
  {
   "cell_type": "markdown",
   "metadata": {},
   "source": [
    "Najcesce psovke:"
   ]
  },
  {
   "cell_type": "code",
   "execution_count": 35,
   "metadata": {},
   "outputs": [],
   "source": [
    "najcesce_psovke = '''\n",
    "SELECT kategorija.naziv, COUNT(rijec.kategorija_fk) ---, korijen.naziv\n",
    "FROM kategorija, rijec\n",
    "WHERE rijec.kategorija_fk = kategorija_id\n",
    "GROUP BY rijec.kategorija_fk;\n",
    "'''\n",
    "rez = c.execute(najcesce_psovke).fetchall()"
   ]
  },
  {
   "cell_type": "code",
   "execution_count": 36,
   "metadata": {},
   "outputs": [
    {
     "name": "stdout",
     "output_type": "stream",
     "text": [
      "[('fekalije', 253), ('seks', 974), ('psovke', 154), ('pogrdnost', 85), ('nacija', 8), ('rasa', 185)]\n"
     ]
    },
    {
     "data": {
      "image/png": "[encoded data removed]",
      "text/plain": [
       "<Figure size 432x288 with 1 Axes>"
      ]
     },
     "metadata": {
      "needs_background": "light"
     },
     "output_type": "display_data"
    }
   ],
   "source": [
    "fig, ax = plt.subplots()\n",
    "ax.set_title('Broj psovki po kategorijama')\n",
    "ax.set_xlabel('Kategorija psovki')\n",
    "ax.set_ylabel('Broj psovki')\n",
    "\n",
    "print(rez)\n",
    "\n",
    "fig.tight_layout()\n",
    "ax.grid(False)\n",
    "ax.bar(*zip(*rez), color='ForestGreen')\n",
    "ax.grid(True)\n",
    "plt.savefig(\"rad/slike/kategorije_total.pdf\")\n",
    "plt.show()"
   ]
  },
  {
   "cell_type": "code",
   "execution_count": 37,
   "metadata": {},
   "outputs": [
    {
     "data": {
      "image/png": "[encoded data removed]",
      "text/plain": [
       "<Figure size 432x288 with 1 Axes>"
      ]
     },
     "metadata": {
      "needs_background": "light"
     },
     "output_type": "display_data"
    }
   ],
   "source": [
    "fig, ax = plt.subplots()\n",
    "ax.set_title('Broj psovki po kategorijama po filmu')\n",
    "ax.set_ylabel('Broj psovki')\n",
    "ax.set_xlabel('Kategorija psovki')\n",
    "for film in filmovi:\n",
    "    najcesce_psovke = '''\n",
    "    SELECT kategorija.naziv, COUNT(rijec.kategorija_fk), film.naziv ---, korijen.naziv\n",
    "    FROM kategorija, rijec, film\n",
    "    WHERE rijec.kategorija_fk = kategorija_id \n",
    "        AND film.film_id = rijec.film_fk\n",
    "        AND rijec.film_fk = (SELECT film.film_id FROM film WHERE film.naziv = \"{}\" )\n",
    "    GROUP BY rijec.kategorija_fk;\n",
    "    '''.format(film)\n",
    "    rez = c.execute(najcesce_psovke).fetchall()\n",
    "\n",
    "    kategorije = list(list(a) for a in zip(*rez))\n",
    "    fig.tight_layout()\n",
    "    ax.grid(False)\n",
    "    ax.bar(kategorije[0], kategorije[1], label=kategorije[2][1])\n",
    "\n",
    "plt.legend(loc = \"best\")\n",
    "plt.savefig(\"rad/slike/kategorije_total_po_filmovima.pdf\")\n",
    "plt.show()"
   ]
  }
 ],
 "metadata": {
  "kernelspec": {
   "display_name": "Python 3",
   "language": "python",
   "name": "python3"
  },
  "language_info": {
   "codemirror_mode": {
    "name": "ipython",
    "version": 3
   },
   "file_extension": ".py",
   "mimetype": "text/x-python",
   "name": "python",
   "nbconvert_exporter": "python",
   "pygments_lexer": "ipython3",
   "version": "3.8.3"
  }
 },
 "nbformat": 4,
 "nbformat_minor": 2
}
