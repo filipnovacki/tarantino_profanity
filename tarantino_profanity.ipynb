{
 "cells": [
  {
   "cell_type": "markdown",
   "metadata": {},
   "source": [
    "# Analiza vulgarnosti u Tarantinovim filmovima\n",
    "\n",
    "Alati: Jupyter Notebook, Python (pandas, matplotlib i sl.), SQLite"
   ]
  },
  {
   "cell_type": "code",
   "execution_count": 1,
   "metadata": {},
   "outputs": [
    {
     "data": {
      "text/html": [
       "<div>\n",
       "<style scoped>\n",
       "    .dataframe tbody tr th:only-of-type {\n",
       "        vertical-align: middle;\n",
       "    }\n",
       "\n",
       "    .dataframe tbody tr th {\n",
       "        vertical-align: top;\n",
       "    }\n",
       "\n",
       "    .dataframe thead th {\n",
       "        text-align: right;\n",
       "    }\n",
       "</style>\n",
       "<table border=\"1\" class=\"dataframe\">\n",
       "  <thead>\n",
       "    <tr style=\"text-align: right;\">\n",
       "      <th></th>\n",
       "      <th>movie</th>\n",
       "      <th>type</th>\n",
       "      <th>word</th>\n",
       "      <th>minutes_in</th>\n",
       "    </tr>\n",
       "  </thead>\n",
       "  <tbody>\n",
       "    <tr>\n",
       "      <th>0</th>\n",
       "      <td>Reservoir Dogs</td>\n",
       "      <td>word</td>\n",
       "      <td>dick</td>\n",
       "      <td>0.40</td>\n",
       "    </tr>\n",
       "    <tr>\n",
       "      <th>1</th>\n",
       "      <td>Reservoir Dogs</td>\n",
       "      <td>word</td>\n",
       "      <td>dicks</td>\n",
       "      <td>0.43</td>\n",
       "    </tr>\n",
       "    <tr>\n",
       "      <th>2</th>\n",
       "      <td>Reservoir Dogs</td>\n",
       "      <td>word</td>\n",
       "      <td>fucked</td>\n",
       "      <td>0.55</td>\n",
       "    </tr>\n",
       "    <tr>\n",
       "      <th>3</th>\n",
       "      <td>Reservoir Dogs</td>\n",
       "      <td>word</td>\n",
       "      <td>fucking</td>\n",
       "      <td>0.61</td>\n",
       "    </tr>\n",
       "    <tr>\n",
       "      <th>4</th>\n",
       "      <td>Reservoir Dogs</td>\n",
       "      <td>word</td>\n",
       "      <td>bullshit</td>\n",
       "      <td>0.61</td>\n",
       "    </tr>\n",
       "    <tr>\n",
       "      <th>...</th>\n",
       "      <td>...</td>\n",
       "      <td>...</td>\n",
       "      <td>...</td>\n",
       "      <td>...</td>\n",
       "    </tr>\n",
       "    <tr>\n",
       "      <th>1889</th>\n",
       "      <td>Jackie Brown</td>\n",
       "      <td>word</td>\n",
       "      <td>motherfucker</td>\n",
       "      <td>141.93</td>\n",
       "    </tr>\n",
       "    <tr>\n",
       "      <th>1890</th>\n",
       "      <td>Jackie Brown</td>\n",
       "      <td>word</td>\n",
       "      <td>ass</td>\n",
       "      <td>142.43</td>\n",
       "    </tr>\n",
       "    <tr>\n",
       "      <th>1891</th>\n",
       "      <td>Jackie Brown</td>\n",
       "      <td>word</td>\n",
       "      <td>fucking</td>\n",
       "      <td>142.47</td>\n",
       "    </tr>\n",
       "    <tr>\n",
       "      <th>1892</th>\n",
       "      <td>Jackie Brown</td>\n",
       "      <td>word</td>\n",
       "      <td>goddamn</td>\n",
       "      <td>142.97</td>\n",
       "    </tr>\n",
       "    <tr>\n",
       "      <th>1893</th>\n",
       "      <td>Jackie Brown</td>\n",
       "      <td>death</td>\n",
       "      <td>NaN</td>\n",
       "      <td>143.13</td>\n",
       "    </tr>\n",
       "  </tbody>\n",
       "</table>\n",
       "<p>1894 rows × 4 columns</p>\n",
       "</div>"
      ],
      "text/plain": [
       "               movie   type          word  minutes_in\n",
       "0     Reservoir Dogs   word          dick        0.40\n",
       "1     Reservoir Dogs   word         dicks        0.43\n",
       "2     Reservoir Dogs   word        fucked        0.55\n",
       "3     Reservoir Dogs   word       fucking        0.61\n",
       "4     Reservoir Dogs   word      bullshit        0.61\n",
       "...              ...    ...           ...         ...\n",
       "1889    Jackie Brown   word  motherfucker      141.93\n",
       "1890    Jackie Brown   word           ass      142.43\n",
       "1891    Jackie Brown   word       fucking      142.47\n",
       "1892    Jackie Brown   word       goddamn      142.97\n",
       "1893    Jackie Brown  death           NaN      143.13\n",
       "\n",
       "[1894 rows x 4 columns]"
      ]
     },
     "execution_count": 1,
     "metadata": {},
     "output_type": "execute_result"
    }
   ],
   "source": [
    "import pandas as pd\n",
    "df = pd.read_csv('profanity.csv')\n",
    "df"
   ]
  },
  {
   "cell_type": "code",
   "execution_count": 24,
   "metadata": {},
   "outputs": [],
   "source": [
    "data = {}\n",
    "with open('profanity.csv') as file:\n",
    "    for f in list(enumerate(file.readlines()[1:])):\n",
    "        data[f[0]] = f[1:][0].rstrip().split(',')"
   ]
  },
  {
   "cell_type": "code",
   "execution_count": 3,
   "metadata": {},
   "outputs": [],
   "source": [
    "filmovi = set(df.movie)"
   ]
  },
  {
   "cell_type": "code",
   "execution_count": 4,
   "metadata": {},
   "outputs": [],
   "source": [
    "film = [('Django Unchained', 84, 2012), \n",
    " ('Pulp Fiction', 89, 1994), \n",
    " ('Inglorious Basterds', 83, 2009), \n",
    " ('Kill Bill: Vol. 1', 81, 2003), \n",
    " ('Jackie Brown', 75, 1997), \n",
    " ('Reservoir Dogs', 83, 1992), \n",
    " ('Kill Bill: Vol. 2', 80, 2004)]"
   ]
  },
  {
   "cell_type": "code",
   "execution_count": 5,
   "metadata": {},
   "outputs": [],
   "source": [
    "tip_vulgarnosti = set(df.type)"
   ]
  },
  {
   "cell_type": "code",
   "execution_count": 6,
   "metadata": {
    "scrolled": true
   },
   "outputs": [],
   "source": [
    "rijec = set(df.word)\n",
    "rijec.add('death')"
   ]
  },
  {
   "cell_type": "code",
   "execution_count": 7,
   "metadata": {},
   "outputs": [],
   "source": [
    "vulg = {}.fromkeys(rijec, [])\n",
    "for entry in data:\n",
    "    time = [[ entry, data[entry][3] ]]\n",
    "    if data[entry][1] == 'word':\n",
    "        vulg[data[entry][2]] = vulg[data[entry][2]] + time\n",
    "    elif data[entry][1] == 'death':\n",
    "        vulg['death'] = vulg['death'] + time"
   ]
  },
  {
   "cell_type": "code",
   "execution_count": 8,
   "metadata": {},
   "outputs": [],
   "source": [
    "sorted_vulgs = []\n",
    "only_sorted = []\n",
    "base_words = ['shit', 'fuck', 'ass', 'damn', 'dick', 'cock', 'bitch', 'cunt', ]\n",
    "for word in vulg.keys():\n",
    "    for base in base_words:\n",
    "        if type(word) == type('') and base in word:\n",
    "            sorted_vulgs.append((base, word))\n",
    "            only_sorted.append(word)"
   ]
  },
  {
   "cell_type": "code",
   "execution_count": 25,
   "metadata": {
    "scrolled": true
   },
   "outputs": [
    {
     "data": {
      "text/plain": [
       "[('shit', 'shittiest'),\n",
       " ('dick', 'dick'),\n",
       " ('ass', 'assholes'),\n",
       " ('dick', 'dickless'),\n",
       " ('fuck', 'fuckup')]"
      ]
     },
     "execution_count": 25,
     "metadata": {},
     "output_type": "execute_result"
    }
   ],
   "source": [
    "sorted_vulgs_db = sorted_vulgs + [(r,r) for r in rijec if r not in only_sorted]\n",
    "sorted_vulgs_db[:5]"
   ]
  },
  {
   "cell_type": "code",
   "execution_count": 10,
   "metadata": {
    "scrolled": true
   },
   "outputs": [],
   "source": [
    "korijen = base_words + [r for r in rijec if r not in only_sorted]"
   ]
  },
  {
   "cell_type": "code",
   "execution_count": 11,
   "metadata": {},
   "outputs": [],
   "source": [
    "korijen_db = []\n",
    "for item in korijen:\n",
    "    korijen_db.append((item,))"
   ]
  },
  {
   "cell_type": "code",
   "execution_count": 12,
   "metadata": {},
   "outputs": [],
   "source": [
    "kategorije = ['fekalije', 'seks', 'psovke', 'pogrdnost', 'nacija', 'rasa', 'smrt']\n",
    "kategorije_db = []\n",
    "for item in kategorije:\n",
    "    kategorije_db.append((item,))"
   ]
  },
  {
   "cell_type": "markdown",
   "metadata": {},
   "source": [
    "## Upravljanje bazom podataka"
   ]
  },
  {
   "cell_type": "code",
   "execution_count": 13,
   "metadata": {},
   "outputs": [],
   "source": [
    "import sqlite3"
   ]
  },
  {
   "cell_type": "code",
   "execution_count": 14,
   "metadata": {},
   "outputs": [],
   "source": [
    "conn = sqlite3.connect('baza.db')\n",
    "c = conn.cursor()"
   ]
  },
  {
   "cell_type": "markdown",
   "metadata": {},
   "source": [
    "\n",
    "\n",
    "### Tablica korijen\n",
    "```sqlite\n",
    "CREATE TABLE korijen(\n",
    "    korijen_id INTEGER PRIMARY KEY AUTOINCREMENT,\n",
    "    naziv TEXT\n",
    ");\n",
    "```\n",
    "\n",
    "```sqlite\n",
    "INSERT INTO korijen(naziv) VALUES (?);\n",
    "```"
   ]
  },
  {
   "cell_type": "code",
   "execution_count": 15,
   "metadata": {},
   "outputs": [],
   "source": [
    "drop_table_korijen = '''\n",
    "DROP TABLE korijen;\n",
    "'''\n",
    "c.execute(drop_table_korijen)\n",
    "\n",
    "create_table_korijen='''\n",
    "CREATE TABLE korijen(\n",
    "    korijen_id INTEGER PRIMARY KEY AUTOINCREMENT,\n",
    "    naziv TEXT\n",
    ");\n",
    "'''\n",
    "\n",
    "c.execute(create_table_korijen)\n",
    "\n",
    "insert_into_korijen = '''\n",
    "INSERT INTO korijen(naziv) VALUES (?);\n",
    "'''\n",
    "c.executemany(insert_into_korijen, korijen_db)\n",
    "conn.commit()"
   ]
  },
  {
   "cell_type": "markdown",
   "metadata": {},
   "source": [
    "## Tablica kategorija\n",
    "\n",
    "```sqlite\n",
    "CREATE TABLE kategorija(\n",
    "    kategorija_id INTEGER PRIMARY KEY AUTOINCREMENT,\n",
    "    naziv TEXT\n",
    ");\n",
    "```\n",
    "\n",
    "```sqlite\n",
    "INSERT INTO kategorija(naziv) VALUES (?);\n",
    "```\n"
   ]
  },
  {
   "cell_type": "code",
   "execution_count": 16,
   "metadata": {},
   "outputs": [],
   "source": [
    "drop_table_kat = '''\n",
    "DROP TABLE kategorija;\n",
    "'''\n",
    "c.execute(drop_table_kat)\n",
    "\n",
    "create_table_kat = '''\n",
    "CREATE TABLE kategorija(\n",
    "    kategorija_id INTEGER PRIMARY KEY AUTOINCREMENT,\n",
    "    naziv TEXT\n",
    ");'''\n",
    "\n",
    "c.execute(create_table_kat)\n",
    "insert_into_kat = '''\n",
    "INSERT INTO kategorija(naziv) VALUES (?);\n",
    "'''\n",
    "c.executemany(insert_into_kat, kategorije_db)\n",
    "conn.commit()"
   ]
  },
  {
   "cell_type": "markdown",
   "metadata": {},
   "source": [
    "### Tablica film\n",
    "```sqlite\n",
    "CREATE TABLE film(\n",
    "    film_id INTEGER PRIMARY KEY AUTOINCREMENT,\n",
    "    naziv TEXT NOT NULL,\n",
    "    godina INTEGER,\n",
    "    ocjena INTEGER, --- 0 <= ocjena <= 100\n",
    "    CHECK (ocjena <= 100 AND\n",
    "           ocjena >= 0)\n",
    ");\n",
    "```\n",
    "```sqlite\n",
    "INSERT INTO film (naziv, ocjena, godina) VALUES (?, ?, ?);\n",
    "```"
   ]
  },
  {
   "cell_type": "code",
   "execution_count": 17,
   "metadata": {},
   "outputs": [],
   "source": [
    "drop_table_film = '''DROP TABLE film;'''\n",
    "c.execute(drop_table_film)\n",
    "\n",
    "create_table_film = '''\n",
    "CREATE TABLE film(\n",
    "    film_id INTEGER PRIMARY KEY AUTOINCREMENT,\n",
    "    naziv TEXT NOT NULL,\n",
    "    godina INTEGER,\n",
    "    ocjena INTEGER\n",
    "    CHECK (ocjena <= 100 AND\n",
    "           ocjena >= 0)\n",
    ");\n",
    "'''\n",
    "c.execute(create_table_film)\n",
    "\n",
    "insert_into_film = '''\n",
    "INSERT INTO film (naziv, ocjena, godina) VALUES (?, ?, ?);\n",
    "'''\n",
    "c.executemany(insert_into_film, film)\n",
    "conn.commit()"
   ]
  },
  {
   "cell_type": "markdown",
   "metadata": {},
   "source": [
    "### Tablica rijec\n",
    "\n",
    "```sqlite\n",
    "CREATE TABLE rijec (\n",
    "    rijec_id INTEGER PRIMARY KEY, ---non-autoincrement!\n",
    "    rijec TEXT NOT NULL,\n",
    "    vrijeme REAL NOT NULL,\n",
    "    film_fk INTEGER,\n",
    "    FOREIGN KEY (film_dk) ---TODO\n",
    "        REFERENCES film (film_id) \n",
    "    korijen_fk INTEGER,\n",
    "    FOREIGN KEY (korijen_fk) ---TODO\n",
    "        REFENCES korijen (korijen_id)\n",
    "    kategorija_fk INTEGER\n",
    "    FOREIGN KEY (kategorija_fk) ---TODO\n",
    "        REFERENCES kategorija (kategorija_id)\n",
    ");```\n",
    "\n",
    "\n",
    "```sqlite\n",
    "INSERT INTO rijec VALUES (?,?,?,NULL,NULL,NULL)\n",
    "\n",
    "```"
   ]
  },
  {
   "cell_type": "code",
   "execution_count": 18,
   "metadata": {},
   "outputs": [],
   "source": [
    "drop_table_rijec ='''\n",
    "DROP TABLE rijec;\n",
    "'''\n",
    "c.execute(drop_table_rijec)\n",
    "\n",
    "create_table_rijec = '''\n",
    "CREATE TABLE rijec (\n",
    "    rijec_id INTEGER PRIMARY KEY,\n",
    "    rijec TEXT NOT NULL,\n",
    "    vrijeme REAL NOT NULL,\n",
    "    film_fk INTEGER,\n",
    "    korijen_fk INTEGER,\n",
    "    kategorija_fk INTEGER\n",
    ");\n",
    "'''\n",
    "c.execute(create_table_rijec)\n",
    "\n",
    "insert_into_rijec = '''\n",
    "INSERT INTO rijec VALUES (?,?,?,NULL,NULL,NULL)\n",
    "'''\n",
    "c.executemany(insert_into_rijec, [(a, data[a][2], data[a][3]) for a in data])\n",
    "conn.commit()"
   ]
  },
  {
   "cell_type": "markdown",
   "metadata": {},
   "source": [
    "```sqlite\n",
    "UPDATE rijec SET korijen_fk = (\n",
    "    SELECT korijen_id FROM korijen\n",
    "    WHERE naziv = ?\n",
    ") WHERE rijec = ?\n",
    "```"
   ]
  },
  {
   "cell_type": "code",
   "execution_count": 19,
   "metadata": {},
   "outputs": [],
   "source": [
    "update_korijen_fk = '''\n",
    "UPDATE rijec SET korijen_fk = (\n",
    "    SELECT korijen_id FROM korijen\n",
    "    WHERE naziv = ?\n",
    ") WHERE rijec = ?\n",
    "'''\n",
    "c.executemany(update_korijen_fk, sorted_vulgs_db)\n",
    "conn.commit()"
   ]
  },
  {
   "cell_type": "markdown",
   "metadata": {},
   "source": [
    "```sqlite\n",
    "UPDATE rijec SET film_fk = (\n",
    "    SELECT film_id FROM film\n",
    "    WHERE naziv = ?\n",
    ") WHERE rijec_id = ?\n",
    "```"
   ]
  },
  {
   "cell_type": "code",
   "execution_count": 20,
   "metadata": {},
   "outputs": [],
   "source": [
    "update_film_fk = '''\n",
    "UPDATE rijec SET film_fk = (\n",
    "    SELECT film_id FROM film\n",
    "    WHERE naziv = ?\n",
    ") WHERE rijec_id = ?\n",
    "'''\n",
    "film_id = [(data[a][0], a) for a in data]\n",
    "c.executemany(update_film_fk, film_id)\n",
    "conn.commit()"
   ]
  },
  {
   "cell_type": "markdown",
   "metadata": {},
   "source": [
    "### Pregled tablica"
   ]
  },
  {
   "cell_type": "code",
   "execution_count": 21,
   "metadata": {
    "scrolled": false
   },
   "outputs": [
    {
     "name": "stdout",
     "output_type": "stream",
     "text": [
      "===== rijec =====\n",
      "(0, 'dick', 0.4, 6, 5, None)\n",
      "(1, 'dicks', 0.43, 6, 5, None)\n",
      "(2, 'fucked', 0.55, 6, 2, None)\n",
      "(3, 'fucking', 0.61, 6, 2, None)\n",
      "(4, 'bullshit', 0.61, 6, 1, None)\n",
      "(5, 'fuck', 0.66, 6, 2, None)\n",
      "(6, 'shit', 0.9, 6, 1, None)\n",
      "(7, 'fuck', 1.43, 6, 2, None)\n",
      "(8, 'dicks', 1.56, 6, 5, None)\n",
      "(9, 'fuck', 1.66, 6, 2, None)\n",
      "===== kategorija =====\n",
      "(1, 'fekalije')\n",
      "(2, 'seks')\n",
      "(3, 'psovke')\n",
      "(4, 'pogrdnost')\n",
      "(5, 'nacija')\n",
      "(6, 'rasa')\n",
      "(7, 'smrt')\n",
      "===== korijen =====\n",
      "(1, 'shit')\n",
      "(2, 'fuck')\n",
      "(3, 'ass')\n",
      "(4, 'damn')\n",
      "(5, 'dick')\n",
      "(6, 'cock')\n",
      "(7, 'bitch')\n",
      "(8, 'cunt')\n",
      "(9, None)\n",
      "(10, 'hell')\n",
      "===== film =====\n",
      "(1, 'Django Unchained', 2012, 84)\n",
      "(2, 'Pulp Fiction', 1994, 89)\n",
      "(3, 'Inglorious Basterds', 2009, 83)\n",
      "(4, 'Kill Bill: Vol. 1', 2003, 81)\n",
      "(5, 'Jackie Brown', 1997, 75)\n",
      "(6, 'Reservoir Dogs', 1992, 83)\n",
      "(7, 'Kill Bill: Vol. 2', 2004, 80)\n"
     ]
    }
   ],
   "source": [
    "tablice = ['rijec', 'kategorija', 'korijen', 'film']\n",
    "\n",
    "for tablica in tablice:\n",
    "    select_upit = 'SELECT * FROM ' + tablica\n",
    "    rez = c.execute(select_upit)\n",
    "    print('===== ' + tablica + ' =====')\n",
    "    for a in rez.fetchmany(10):\n",
    "        print(a)"
   ]
  },
  {
   "cell_type": "markdown",
   "metadata": {},
   "source": [
    "### Upiti"
   ]
  },
  {
   "cell_type": "markdown",
   "metadata": {},
   "source": [
    "Ispitivanje postoji li vezanost između količine psovki i ocjene."
   ]
  },
  {
   "cell_type": "code",
   "execution_count": 40,
   "metadata": {},
   "outputs": [
    {
     "name": "stdout",
     "output_type": "stream",
     "text": [
      "[(309, 84), (476, 89), (106, 83), (120, 81), (372, 75), (431, 83), (80, 80)]\n"
     ]
    }
   ],
   "source": [
    "count_per_film = '''\n",
    "SELECT COUNT(), film.ocjena FROM rijec, film\n",
    "WHERE film_id = film_fk\n",
    "GROUP BY film_fk; \n",
    "'''\n",
    "rez = c.execute(count_per_film).fetchall()\n",
    "print(rez)"
   ]
  },
  {
   "cell_type": "code",
   "execution_count": 35,
   "metadata": {},
   "outputs": [],
   "source": [
    "import matplotlib as mpl\n",
    "import matplotlib.pyplot as plt"
   ]
  },
  {
   "cell_type": "code",
   "execution_count": 57,
   "metadata": {},
   "outputs": [
    {
     "name": "stdout",
     "output_type": "stream",
     "text": [
      "[(80, 80), (106, 83), (120, 81), (309, 84), (372, 75), (431, 83), (476, 89)]\n"
     ]
    },
    {
     "data": {
      "text/plain": [
       "[(309, 476, 106, 120, 372, 431, 80), (84, 89, 83, 81, 75, 83, 80)]"
      ]
     },
     "execution_count": 57,
     "metadata": {},
     "output_type": "execute_result"
    }
   ],
   "source": [
    "podatci = sorted(rez)\n",
    "(list(zip(*rez)))"
   ]
  },
  {
   "cell_type": "code",
   "execution_count": 60,
   "metadata": {},
   "outputs": [
    {
     "data": {
      "image/png": "[encoded data removed]",
      "text/plain": [
       "<Figure size 432x288 with 1 Axes>"
      ]
     },
     "metadata": {
      "needs_background": "light"
     },
     "output_type": "display_data"
    }
   ],
   "source": [
    "plt.scatter(*zip(*podatci))\n",
    "plt.plot(*zip(*podatci))\n",
    "plt.show()"
   ]
  },
  {
   "cell_type": "code",
   "execution_count": null,
   "metadata": {},
   "outputs": [],
   "source": []
  }
 ],
 "metadata": {
  "kernelspec": {
   "display_name": "Python 3",
   "language": "python",
   "name": "python3"
  },
  "language_info": {
   "codemirror_mode": {
    "name": "ipython",
    "version": 3
   },
   "file_extension": ".py",
   "mimetype": "text/x-python",
   "name": "python",
   "nbconvert_exporter": "python",
   "pygments_lexer": "ipython3",
   "version": "3.8.3"
  }
 },
 "nbformat": 4,
 "nbformat_minor": 2
}
